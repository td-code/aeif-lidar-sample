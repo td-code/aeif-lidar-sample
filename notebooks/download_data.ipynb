{
 "cells": [
  {
   "cell_type": "markdown",
   "metadata": {},
   "source": [
    "# Download sample data and move to data directory"
   ]
  },
  {
   "cell_type": "code",
   "execution_count": 1,
   "metadata": {},
   "outputs": [
    {
     "name": "stdout",
     "output_type": "stream",
     "text": [
      "--2024-10-18 16:09:56--  https://bwsyncandshare.kit.edu/s/WiToGpB5Wr8PDpQ/download/example_record_1.4mse\n",
      "Auflösen des Hostnamens bwsyncandshare.kit.edu (bwsyncandshare.kit.edu)… 141.3.135.129\n",
      "Verbindungsaufbau zu bwsyncandshare.kit.edu (bwsyncandshare.kit.edu)|141.3.135.129|:443 … verbunden.\n",
      "HTTP-Anforderung gesendet, auf Antwort wird gewartet … 200 OK\n",
      "Länge: 243139577 (232M) [application/octet-stream]\n",
      "Wird in »example_record_1.4mse« gespeichert.\n",
      "\n",
      "example_record_1.4m 100%[===================>] 231,88M  6,80MB/s    in 31s     \n",
      "\n",
      "2024-10-18 16:10:29 (7,43 MB/s) - »example_record_1.4mse« gespeichert [243139577/243139577]\n",
      "\n",
      "--2024-10-18 16:10:29--  https://bwsyncandshare.kit.edu/s/YwesoXYZ8izYSJW/download/example_record_2.4mse\n",
      "Auflösen des Hostnamens bwsyncandshare.kit.edu (bwsyncandshare.kit.edu)… 141.3.135.129\n",
      "Verbindungsaufbau zu bwsyncandshare.kit.edu (bwsyncandshare.kit.edu)|141.3.135.129|:443 … verbunden.\n",
      "HTTP-Anforderung gesendet, auf Antwort wird gewartet … 200 OK\n",
      "Länge: 243115859 (232M) [application/octet-stream]\n",
      "Wird in »example_record_2.4mse« gespeichert.\n",
      "\n",
      "example_record_2.4m 100%[===================>] 231,85M  7,52MB/s    in 29s     \n",
      "\n",
      "2024-10-18 16:11:00 (7,87 MB/s) - »example_record_2.4mse« gespeichert [243115859/243115859]\n",
      "\n"
     ]
    }
   ],
   "source": [
    "# Download two sample record files, each containing three frames.\n",
    "# These sample records will help you quickly understand how to work with the dataset.\n",
    "!if [ ! -f \"example_record_1.4mse\" ]; then wget https://bwsyncandshare.kit.edu/s/WiToGpB5Wr8PDpQ/download/example_record_1.4mse; fi\n",
    "!if [ ! -f \"example_record_2.4mse\" ]; then wget https://bwsyncandshare.kit.edu/s/YwesoXYZ8izYSJW/download/example_record_2.4mse; fi\n"
   ]
  },
  {
   "cell_type": "code",
   "execution_count": 4,
   "metadata": {},
   "outputs": [],
   "source": [
    "!mv *.4mse ../data/\n",
    "data_path = '../data/'"
   ]
  },
  {
   "cell_type": "code",
   "execution_count": 5,
   "metadata": {},
   "outputs": [
    {
     "name": "stderr",
     "output_type": "stream",
     "text": [
      "Matplotlib is building the font cache; this may take a moment.\n"
     ]
    },
    {
     "name": "stdout",
     "output_type": "stream",
     "text": [
      "Frame Metadata:\n",
      "{'frame_id': 1016,\n",
      " 'timestamp': Decimal('1727426142799683960'),\n",
      " 'tower': <aeifdataset.data.agent.Tower object at 0x162a18250>,\n",
      " 'vehicle': <aeifdataset.data.agent.Vehicle object at 0x162ddc690>,\n",
      " 'version': '0.7.5'}\n"
     ]
    }
   ],
   "source": [
    "import aeifdataset as ad\n",
    "from aeifdataset import Dataloader, DataRecord\n",
    "from pprint import pprint  # For structured output\n",
    "\n",
    "# Access the whole dataset\n",
    "# The Dataloader class loads and manages multiple .4mse files from the specified directory.\n",
    "dataset = Dataloader(data_path)\n",
    "\n",
    "# Access a single Data Record\n",
    "# Each DataRecord corresponds to a file, which contains multiple frames.\n",
    "example_record_1 = dataset[0]\n",
    "# Alternatively; access by name:\n",
    "example_record_1 = DataRecord(data_path+\"/example_record_1.4mse\")\n",
    "\n",
    "# Access a single frame\n",
    "# A frame contains sensor data and metadata for a 100ms period.\n",
    "example_frame = example_record_1[0]\n",
    "\n",
    "# Iterate through Data Records and Frames\n",
    "frames = []\n",
    "for datarecord in dataset:\n",
    "    for frame in datarecord:\n",
    "        frames.append(frame)\n",
    "\n",
    "# Access the third frame in the dataset\n",
    "# This frame will be used as an example to demonstrate data access.\n",
    "frame = frames[2]\n",
    "print('Frame Metadata:')\n",
    "pprint(vars(frame))  # Using pprint for a more readable output"
   ]
  }
 ],
 "metadata": {
  "kernelspec": {
   "display_name": "aeif-jupyter",
   "language": "python",
   "name": "aeif-jupyter"
  },
  "language_info": {
   "codemirror_mode": {
    "name": "ipython",
    "version": 3
   },
   "file_extension": ".py",
   "mimetype": "text/x-python",
   "name": "python",
   "nbconvert_exporter": "python",
   "pygments_lexer": "ipython3",
   "version": "3.11.8"
  }
 },
 "nbformat": 4,
 "nbformat_minor": 2
}
