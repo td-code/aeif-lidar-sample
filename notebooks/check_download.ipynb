{
 "cells": [
  {
   "cell_type": "markdown",
   "metadata": {},
   "source": [
    "# Basic check for downloaded sample data"
   ]
  },
  {
   "cell_type": "code",
   "execution_count": 1,
   "metadata": {},
   "outputs": [
    {
     "name": "stdout",
     "output_type": "stream",
     "text": [
      "Frame Metadata:\n",
      "{'frame_id': 1016,\n",
      " 'timestamp': Decimal('1727426142799683960'),\n",
      " 'tower': <aeifdataset.data.agent.Tower object at 0x123a50950>,\n",
      " 'vehicle': <aeifdataset.data.agent.Vehicle object at 0x123b04d50>,\n",
      " 'version': '0.7.5'}\n"
     ]
    }
   ],
   "source": [
    "from aeifdataset import Dataloader, DataRecord\n",
    "from pprint import pprint  # For structured output\n",
    "\n",
    "data_path = '../data/'\n",
    "\n",
    "# Access the whole dataset\n",
    "# The Dataloader class loads and manages multiple .4mse files from the specified directory.\n",
    "dataset = Dataloader(data_path)\n",
    "\n",
    "# Access a single Data Record\n",
    "# Each DataRecord corresponds to a file, which contains multiple frames.\n",
    "example_record_1 = dataset[0]\n",
    "# Alternatively; access by name:\n",
    "example_record_1 = DataRecord(data_path+\"/example_record_1.4mse\")\n",
    "\n",
    "# Access a single frame\n",
    "# A frame contains sensor data and metadata for a 100ms period.\n",
    "example_frame = example_record_1[0]\n",
    "\n",
    "# Iterate through Data Records and Frames\n",
    "frames = []\n",
    "for datarecord in dataset:\n",
    "    for frame in datarecord:\n",
    "        frames.append(frame)\n",
    "\n",
    "# Access the third frame in the dataset\n",
    "# This frame will be used as an example to demonstrate data access.\n",
    "frame = frames[2]\n",
    "print('Frame Metadata:')\n",
    "pprint(vars(frame))  # Using pprint for a more readable output"
   ]
  }
 ],
 "metadata": {
  "kernelspec": {
   "display_name": "aeif-jupyter",
   "language": "python",
   "name": "aeif-jupyter"
  },
  "language_info": {
   "codemirror_mode": {
    "name": "ipython",
    "version": 3
   },
   "file_extension": ".py",
   "mimetype": "text/x-python",
   "name": "python",
   "nbconvert_exporter": "python",
   "pygments_lexer": "ipython3",
   "version": "3.11.8"
  }
 },
 "nbformat": 4,
 "nbformat_minor": 2
}
